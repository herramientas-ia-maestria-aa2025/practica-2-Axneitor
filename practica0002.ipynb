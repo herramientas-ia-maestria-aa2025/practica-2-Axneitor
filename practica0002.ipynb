{
 "cells": [
  {
   "cell_type": "code",
   "execution_count": 17,
   "id": "28845814",
   "metadata": {},
   "outputs": [],
   "source": [
    "# Cargar librerías\n",
    "import pandas as pd\n",
    "import numpy as np\n",
    "from sklearn.linear_model import LogisticRegression\n",
    "from sklearn.preprocessing import StandardScaler\n",
    "from sklearn.pipeline import Pipeline\n",
    "from sklearn.model_selection import train_test_split\n",
    "from sklearn.metrics import accuracy_score, precision_score\n",
    "import mlflow\n",
    "import mlflow.sklearn\n"
   ]
  },
  {
   "cell_type": "code",
   "execution_count": 18,
   "id": "da619e05",
   "metadata": {},
   "outputs": [],
   "source": [
    "# Leer datos\n",
    "df = pd.read_csv(\"data/diabetes.csv\")\n",
    "\n"
   ]
  },
  {
   "cell_type": "code",
   "execution_count": 19,
   "id": "f287d4ff-786f-400c-acbd-06af393ea280",
   "metadata": {},
   "outputs": [
    {
     "data": {
      "text/plain": [
       "Pregnancies                 111\n",
       "Glucose                       5\n",
       "BloodPressure                35\n",
       "SkinThickness               227\n",
       "Insulin                     374\n",
       "BMI                          11\n",
       "DiabetesPedigreeFunction      0\n",
       "Age                           0\n",
       "Outcome                     500\n",
       "dtype: int64"
      ]
     },
     "execution_count": 19,
     "metadata": {},
     "output_type": "execute_result"
    }
   ],
   "source": [
    "# identifica las columnas que tiene valores 0\n",
    "(df==0).sum()"
   ]
  },
  {
   "cell_type": "code",
   "execution_count": 25,
   "id": "9d063202-3384-456c-8bbf-924911f25144",
   "metadata": {},
   "outputs": [],
   "source": [
    "# Reemplazar ceros en columnas específicas por NaN\n",
    "cols_to_clean = ['Glucose', 'BloodPressure', 'SkinThickness', 'Insulin']\n",
    "# No se consideran algunas, por ejemplo Pregnancies (por qué si es posible que se tengan cero embarazos)\n",
    "\n",
    "# Reemplazar ceros por NaN para poder tratarlos como datos faltantes\n",
    "for col in cols_to_clean:\n",
    "    df[col] = df[col].replace(0, np.nan)\n",
    "\n",
    "# Reemplazar NaN con la moda (valor más frecuente) de cada columna\n",
    "for col in cols_to_clean:\n",
    "    moda = df[col].mode() # buscar el método más común para determinar la moda de una columna\n",
    "    df[col] = df[col].fillna(moda[0])\n"
   ]
  },
  {
   "cell_type": "code",
   "execution_count": 26,
   "id": "4be9af71",
   "metadata": {},
   "outputs": [],
   "source": [
    "# Separar datos\n",
    "X = df.drop(\"Outcome\", axis=1)\n",
    "y = df[\"Outcome\"]\n",
    "\n",
    "X_train, X_test, y_train, y_test = train_test_split(X, y, test_size=0.2, random_state=42)\n"
   ]
  },
  {
   "cell_type": "code",
   "execution_count": 27,
   "id": "ee6500fe-a589-4021-a1b0-68d0f1f742c7",
   "metadata": {},
   "outputs": [
    {
     "data": {
      "text/plain": [
       "<Experiment: artifact_location='mlflow-artifacts:/138666968949628617', creation_time=1747442119650, experiment_id='138666968949628617', last_update_time=1747442119650, lifecycle_stage='active', name='ClasificadorDemoDiabetes', tags={}>"
      ]
     },
     "execution_count": 27,
     "metadata": {},
     "output_type": "execute_result"
    }
   ],
   "source": [
    "# agregar el traking uri de mlflow\n",
    "mlflow.set_tracking_uri(\"http://localhost:9090\")\n",
    "mlflow.set_experiment(experiment_name=\"ClasificadorDemoDiabetes\")\n",
    "# agregar set_experiment con nombre: ClasificadorDemoDiabetes\n"
   ]
  },
  {
   "cell_type": "code",
   "execution_count": 28,
   "id": "a1c74c88-44a4-4a37-b15e-3f3b10b5a7c5",
   "metadata": {},
   "outputs": [
    {
     "name": "stdout",
     "output_type": "stream",
     "text": [
      "   logreg_C  logreg_max_iter     solver penalty\n",
      "0      0.01              400  liblinear      l2\n",
      "1      1.12              300      lbfgs      l2\n",
      "2      2.23              500  liblinear      l2\n",
      "3      3.34              200  liblinear      l2\n",
      "4      4.45              300  liblinear      l2\n",
      "5      5.56              500      lbfgs      l2\n",
      "6      6.67              300      lbfgs      l2\n",
      "7      7.78              500      lbfgs      l2\n",
      "8      8.89              400      lbfgs      l2\n",
      "9     10.00              200      lbfgs      l2\n"
     ]
    }
   ],
   "source": [
    "data2 = pd.read_csv(\"data/logreg_variaciones_educativas.csv\")\n",
    "parametros = data2[[\"logreg_C\", \"logreg_max_iter\", \"solver\", \"penalty\"]]\n",
    "print(parametros)"
   ]
  },
  {
   "cell_type": "code",
   "execution_count": 30,
   "id": "c5784cd6",
   "metadata": {},
   "outputs": [
    {
     "name": "stderr",
     "output_type": "stream",
     "text": [
      "2025/05/16 20:30:11 WARNING mlflow.models.model: Model logged without a signature and input example. Please set `input_example` parameter when logging the model to auto infer the model signature.\n",
      "2025/05/16 20:30:12 INFO mlflow.tracking._tracking_service.client: 🏃 View run practica_01 at: http://localhost:9090/#/experiments/138666968949628617/runs/a0cc2a4946534c22a3f6cd29c3c929fc.\n",
      "2025/05/16 20:30:12 INFO mlflow.tracking._tracking_service.client: 🧪 View experiment at: http://localhost:9090/#/experiments/138666968949628617.\n"
     ]
    },
    {
     "name": "stdout",
     "output_type": "stream",
     "text": [
      " Modelo registrado en MLflow\n",
      "Accuracy: 0.7208 | Precision: 0.6034\n"
     ]
    },
    {
     "name": "stderr",
     "output_type": "stream",
     "text": [
      "2025/05/16 20:30:14 WARNING mlflow.models.model: Model logged without a signature and input example. Please set `input_example` parameter when logging the model to auto infer the model signature.\n",
      "2025/05/16 20:30:14 INFO mlflow.tracking._tracking_service.client: 🏃 View run practica_02 at: http://localhost:9090/#/experiments/138666968949628617/runs/83e994d45aed414f8d0923e910f6ff1a.\n",
      "2025/05/16 20:30:14 INFO mlflow.tracking._tracking_service.client: 🧪 View experiment at: http://localhost:9090/#/experiments/138666968949628617.\n"
     ]
    },
    {
     "name": "stdout",
     "output_type": "stream",
     "text": [
      " Modelo registrado en MLflow\n",
      "Accuracy: 0.7532 | Precision: 0.6667\n"
     ]
    },
    {
     "name": "stderr",
     "output_type": "stream",
     "text": [
      "2025/05/16 20:30:17 WARNING mlflow.models.model: Model logged without a signature and input example. Please set `input_example` parameter when logging the model to auto infer the model signature.\n",
      "2025/05/16 20:30:17 INFO mlflow.tracking._tracking_service.client: 🏃 View run practica_03 at: http://localhost:9090/#/experiments/138666968949628617/runs/c96f1eb409c84c7c8cd6500bddca4537.\n",
      "2025/05/16 20:30:17 INFO mlflow.tracking._tracking_service.client: 🧪 View experiment at: http://localhost:9090/#/experiments/138666968949628617.\n"
     ]
    },
    {
     "name": "stdout",
     "output_type": "stream",
     "text": [
      " Modelo registrado en MLflow\n",
      "Accuracy: 0.7532 | Precision: 0.6667\n"
     ]
    },
    {
     "name": "stderr",
     "output_type": "stream",
     "text": [
      "2025/05/16 20:30:19 WARNING mlflow.models.model: Model logged without a signature and input example. Please set `input_example` parameter when logging the model to auto infer the model signature.\n",
      "2025/05/16 20:30:19 INFO mlflow.tracking._tracking_service.client: 🏃 View run practica_04 at: http://localhost:9090/#/experiments/138666968949628617/runs/1f3e9ea6a76c4eb287920bef48fbf528.\n",
      "2025/05/16 20:30:19 INFO mlflow.tracking._tracking_service.client: 🧪 View experiment at: http://localhost:9090/#/experiments/138666968949628617.\n"
     ]
    },
    {
     "name": "stdout",
     "output_type": "stream",
     "text": [
      " Modelo registrado en MLflow\n",
      "Accuracy: 0.7532 | Precision: 0.6667\n"
     ]
    },
    {
     "name": "stderr",
     "output_type": "stream",
     "text": [
      "2025/05/16 20:30:22 WARNING mlflow.models.model: Model logged without a signature and input example. Please set `input_example` parameter when logging the model to auto infer the model signature.\n",
      "2025/05/16 20:30:22 INFO mlflow.tracking._tracking_service.client: 🏃 View run practica_05 at: http://localhost:9090/#/experiments/138666968949628617/runs/299a9bb2fa614710b825e87e647a1732.\n",
      "2025/05/16 20:30:22 INFO mlflow.tracking._tracking_service.client: 🧪 View experiment at: http://localhost:9090/#/experiments/138666968949628617.\n"
     ]
    },
    {
     "name": "stdout",
     "output_type": "stream",
     "text": [
      " Modelo registrado en MLflow\n",
      "Accuracy: 0.7532 | Precision: 0.6667\n"
     ]
    },
    {
     "name": "stderr",
     "output_type": "stream",
     "text": [
      "2025/05/16 20:30:26 WARNING mlflow.models.model: Model logged without a signature and input example. Please set `input_example` parameter when logging the model to auto infer the model signature.\n",
      "2025/05/16 20:30:26 INFO mlflow.tracking._tracking_service.client: 🏃 View run practica_06 at: http://localhost:9090/#/experiments/138666968949628617/runs/5e41f778c47c4fbd975742f91f9b650b.\n",
      "2025/05/16 20:30:26 INFO mlflow.tracking._tracking_service.client: 🧪 View experiment at: http://localhost:9090/#/experiments/138666968949628617.\n"
     ]
    },
    {
     "name": "stdout",
     "output_type": "stream",
     "text": [
      " Modelo registrado en MLflow\n",
      "Accuracy: 0.7532 | Precision: 0.6667\n"
     ]
    },
    {
     "name": "stderr",
     "output_type": "stream",
     "text": [
      "2025/05/16 20:30:28 WARNING mlflow.models.model: Model logged without a signature and input example. Please set `input_example` parameter when logging the model to auto infer the model signature.\n",
      "2025/05/16 20:30:29 INFO mlflow.tracking._tracking_service.client: 🏃 View run practica_07 at: http://localhost:9090/#/experiments/138666968949628617/runs/3245839c98f94a679ac9e419b981eb7c.\n",
      "2025/05/16 20:30:29 INFO mlflow.tracking._tracking_service.client: 🧪 View experiment at: http://localhost:9090/#/experiments/138666968949628617.\n"
     ]
    },
    {
     "name": "stdout",
     "output_type": "stream",
     "text": [
      " Modelo registrado en MLflow\n",
      "Accuracy: 0.7532 | Precision: 0.6667\n"
     ]
    },
    {
     "name": "stderr",
     "output_type": "stream",
     "text": [
      "2025/05/16 20:30:31 WARNING mlflow.models.model: Model logged without a signature and input example. Please set `input_example` parameter when logging the model to auto infer the model signature.\n",
      "2025/05/16 20:30:31 INFO mlflow.tracking._tracking_service.client: 🏃 View run practica_08 at: http://localhost:9090/#/experiments/138666968949628617/runs/1c7391cf77f64a56b2aa1b5d5ee0336b.\n",
      "2025/05/16 20:30:31 INFO mlflow.tracking._tracking_service.client: 🧪 View experiment at: http://localhost:9090/#/experiments/138666968949628617.\n"
     ]
    },
    {
     "name": "stdout",
     "output_type": "stream",
     "text": [
      " Modelo registrado en MLflow\n",
      "Accuracy: 0.7532 | Precision: 0.6667\n"
     ]
    },
    {
     "name": "stderr",
     "output_type": "stream",
     "text": [
      "2025/05/16 20:30:34 WARNING mlflow.models.model: Model logged without a signature and input example. Please set `input_example` parameter when logging the model to auto infer the model signature.\n",
      "2025/05/16 20:30:34 INFO mlflow.tracking._tracking_service.client: 🏃 View run practica_09 at: http://localhost:9090/#/experiments/138666968949628617/runs/7389f774ada04da9ab55272386f081e2.\n",
      "2025/05/16 20:30:34 INFO mlflow.tracking._tracking_service.client: 🧪 View experiment at: http://localhost:9090/#/experiments/138666968949628617.\n"
     ]
    },
    {
     "name": "stdout",
     "output_type": "stream",
     "text": [
      " Modelo registrado en MLflow\n",
      "Accuracy: 0.7532 | Precision: 0.6667\n"
     ]
    },
    {
     "name": "stderr",
     "output_type": "stream",
     "text": [
      "2025/05/16 20:30:37 WARNING mlflow.models.model: Model logged without a signature and input example. Please set `input_example` parameter when logging the model to auto infer the model signature.\n",
      "2025/05/16 20:30:37 INFO mlflow.tracking._tracking_service.client: 🏃 View run practica_010 at: http://localhost:9090/#/experiments/138666968949628617/runs/e72d419156cc4f8da22bf89c285735e4.\n",
      "2025/05/16 20:30:37 INFO mlflow.tracking._tracking_service.client: 🧪 View experiment at: http://localhost:9090/#/experiments/138666968949628617.\n"
     ]
    },
    {
     "name": "stdout",
     "output_type": "stream",
     "text": [
      " Modelo registrado en MLflow\n",
      "Accuracy: 0.7532 | Precision: 0.6667\n"
     ]
    }
   ],
   "source": [
    "# Entrenamiento y registro con MLflow\n",
    "C = 1.0\n",
    "max_iter = 1000\n",
    "# usar los parámetros del archivo logreg_variaciones_educativas.csv\n",
    "# para los parámtros C, max_iter, solver y penalty de LogisticRegresion\n",
    "# se debe genear un run por cada fila del archivo, usando sus parámetros\n",
    "# Analizar que usar\n",
    "\n",
    "\n",
    "# agregar la línea del start_run\n",
    "\n",
    "    # El pipeline usar StandarScaler para que todos los valore numéricos estén en la misma escala\n",
    "    # no cambiar dicha línea\n",
    "    # LogisticRegresion deben variar sus parámetros en cada iteración.\n",
    "for idx, row in data2.iterrows():\n",
    "    \n",
    "    with mlflow.start_run(run_name=f\"practica_0{idx+1}\"):\n",
    "        pipeline = Pipeline([\n",
    "            (\"scaler\", StandardScaler()),\n",
    "            (\"clf\", LogisticRegression(\n",
    "                C=row[\"logreg_C\"],\n",
    "                max_iter=int(row[\"logreg_max_iter\"]),\n",
    "                solver=row[\"solver\"],\n",
    "                penalty=row[\"penalty\"]\n",
    "            ))\n",
    "        ])\n",
    "    \n",
    "        # Entrenar y evaluar\n",
    "        pipeline.fit(X_train, y_train)\n",
    "        y_pred = pipeline.predict(X_test)\n",
    "    \n",
    "        acc = accuracy_score(y_test, y_pred)\n",
    "        prec = precision_score(y_test, y_pred)\n",
    "    \n",
    "        # recuerde que log_param y log_metric debe ir guardando los valores\n",
    "        # dependiendo del run correspondiente de cada fila\n",
    "        mlflow.log_param(\"logreg_C\", C)\n",
    "        mlflow.log_param(\"logreg_max_iter\", max_iter)\n",
    "        mlflow.log_param(\"solver\", \"liblinear\")\n",
    "        mlflow.log_param(\"penalty\", \"l2\")\n",
    "        \n",
    "        mlflow.log_metric(\"accuracy\", acc)\n",
    "        mlflow.log_metric(\"precision\", prec)\n",
    "        \n",
    "        # Guardar el pipeline completo\n",
    "        mlflow.sklearn.log_model(pipeline, \"modelo_pipeline\")\n",
    "        \n",
    "        print(\" Modelo registrado en MLflow\")\n",
    "        print(f\"Accuracy: {acc:.4f} | Precision: {prec:.4f}\")\n"
   ]
  },
  {
   "cell_type": "code",
   "execution_count": null,
   "id": "06c9eb27-a3f2-4e14-b2bc-e308fc71514b",
   "metadata": {},
   "outputs": [],
   "source": []
  }
 ],
 "metadata": {
  "kernelspec": {
   "display_name": "Python 3 (ipykernel)",
   "language": "python",
   "name": "python3"
  },
  "language_info": {
   "codemirror_mode": {
    "name": "ipython",
    "version": 3
   },
   "file_extension": ".py",
   "mimetype": "text/x-python",
   "name": "python",
   "nbconvert_exporter": "python",
   "pygments_lexer": "ipython3",
   "version": "3.8.10"
  }
 },
 "nbformat": 4,
 "nbformat_minor": 5
}
